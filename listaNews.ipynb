{
  "nbformat": 4,
  "nbformat_minor": 0,
  "metadata": {
    "colab": {
      "provenance": [],
      "mount_file_id": "1j5S0JOn4mdlQVA0QAqfCBvNhZ0KS-OI9",
      "authorship_tag": "ABX9TyNsKMtd4AS+0iyYnvcvTwF/",
      "include_colab_link": true
    },
    "kernelspec": {
      "name": "python3",
      "display_name": "Python 3"
    },
    "language_info": {
      "name": "python"
    }
  },
  "cells": [
    {
      "cell_type": "markdown",
      "metadata": {
        "id": "view-in-github",
        "colab_type": "text"
      },
      "source": [
        "<a href=\"https://colab.research.google.com/github/TiagolGoulart/ScoreIbovTools/blob/main/listaNews.ipynb\" target=\"_parent\"><img src=\"https://colab.research.google.com/assets/colab-badge.svg\" alt=\"Open In Colab\"/></a>"
      ]
    },
    {
      "cell_type": "code",
      "source": [
        "'''Esse código busca as últimas 10 notícias do dia relacionadas a bolsa de valores\n",
        "e salva no banco de dados ibovStocks.db'''\n",
        "\n",
        "import sqlite3\n",
        "from googlesearch import search\n",
        "import requests\n",
        "from bs4 import BeautifulSoup\n",
        "from datetime import datetime, timedelta\n",
        "from urllib.parse import quote\n",
        "\n",
        "# Abrir conexão com o arquivo .db\n",
        "conn = sqlite3.connect('/content/drive/MyDrive/Score_Ibov_Project/ibovStocks.db')\n",
        "c = conn.cursor()\n",
        "# Deleta as notícias anteriores\n",
        "c.execute(\"DELETE FROM News\")\n",
        "\n",
        "# Com base nas palavras chaves dentro de query e no tempo de 1 dia contando o momento atual\n",
        "# monta a lista de descrições e links\n",
        "\n",
        "query = \"B3 Bolsa de valores IBOVESPA\"\n",
        "timeframe = (datetime.now() - timedelta(days=1)).strftime('%Y-%m-%d %H:%M:%S') + \" \" + datetime.now().strftime('%Y-%m-%d %H:%M:%S')\n",
        "timeframe_url = quote(timeframe)\n",
        "results = []\n",
        "\n",
        "for j in search(query, num=10, stop=10,tbs=f'cdr:1,cd_min:{timeframe_url},cd_max:', lang='pt-BR', tpe='nws', pause=2):\n",
        "    results.append(j)\n",
        "\n",
        "titles = []\n",
        "for link in results:\n",
        "    try:\n",
        "        page = requests.get(link)\n",
        "        soup = BeautifulSoup(page.content, 'html.parser', from_encoding='utf-8')\n",
        "        title = soup.find('title').get_text()\n",
        "        titles.append(title)\n",
        "    except:\n",
        "        titles.append(\"Veja agora mesmo!\")\n",
        "\n",
        "i=1\n",
        "for link, title in zip(results, titles):\n",
        "    # Executa um comando SQL de inserção na tabela desejada\n",
        "\n",
        "    c.execute(\"INSERT INTO News (Id, Description, URL) VALUES (?, ?, ?)\", (str(i), title, link))\n",
        "    i+=1\n",
        "    # Confirma a inserção no banco de dados\n",
        "    conn.commit()\n",
        "\n",
        "# Fecha a conexão com o banco de dados\n",
        "conn.close()"
      ],
      "metadata": {
        "id": "2j1-geGgEGLM"
      },
      "execution_count": null,
      "outputs": []
    }
  ]
}